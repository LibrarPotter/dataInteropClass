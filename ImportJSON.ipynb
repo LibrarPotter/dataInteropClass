{
 "cells": [
  {
   "cell_type": "code",
   "execution_count": 1,
   "metadata": {
    "collapsed": false,
    "scrolled": true
   },
   "outputs": [],
   "source": [
    "import json\n",
    "import MySQLdb\n",
    "\n",
    "with open('RecordsForDI_3_31_16.json') as data_file:    \n",
    "    data = json.load(data_file)\n",
    "\n",
    "#pprint(data) #running this will take a while because of how many rows there are in the file, so be prepared\n",
    "db = MySQLdb.connect(host=\"localhost\",    # your host, usually localhost\n",
    "                     user=\"john\",         # your username\n",
    "                     passwd=\"megajonhy\",  # your password\n",
    "                     db=\"jonhydb\")        # name of the data base\n",
    "cur = db.cursor()"
   ]
  },
  {
   "cell_type": "code",
   "execution_count": 2,
   "metadata": {
    "collapsed": false
   },
   "outputs": [
    {
     "name": "stdout",
     "output_type": "stream",
     "text": [
      "INSERT INTO table_name (objectType, creatorName, location, recordCreationDate, titleOfObject, description) VALUES (print,[illegible],16B, 01, 04,12/11/15,Count Louis Batthyanyi: Prime Minister of Hungary, 1848,Batthyanyi, Louis);\n",
      "INSERT INTO table_name (objectType, creatorName, location, recordCreationDate, titleOfObject, description) VALUES (print,[undecipherable signature],11B, 06, 06,10/27/15,(Men in window shining flashlight on person standing on chair),2 of 14 prints in envelope labeled Small Gravures Including Various Book Illustrations of the Late Nineteenth Century);\n",
      "INSERT INTO table_name (objectType, creatorName, location, recordCreationDate, titleOfObject, description) VALUES (print,[undecipherable, initials available],11B, 06, 06,10/27/15,(Meeting of knights),4 of 14 prints in envelope labeled Small Gravures Including Various Book Illustrations of the Late Nineteenth Century);\n",
      "INSERT INTO table_name (objectType, creatorName, location, recordCreationDate, titleOfObject, description) VALUES (print,[undecipherable, signature available],11B, 06, 06,10/27/15,(Figure cloaked in a sheet with pot on head, aboard a ship),5 of 14 prints in envelope labeled Small Gravures Including Various Book Illustrations of the Late Nineteenth Century);\n",
      "INSERT INTO table_name (objectType, creatorName, location, recordCreationDate, titleOfObject, description) VALUES (print,A. & H. B. ,08A, 03, 03,12/11/15,Leap Frog On A Level,colored lithograph);\n"
     ]
    }
   ],
   "source": [
    "#I made a test range, but if it looks ready, switch out the for loops.\n",
    "#for i in range(len(data))\n",
    "for i in range(5):\n",
    "    creatorName = data['rows'][i]['creatorName']\n",
    "    objectType = data['rows'][i]['objectType']\n",
    "    location = data['rows'][i]['location']\n",
    "    recordCreationDate = data['rows'][i]['recordCreationDate']\n",
    "    titleOfObject= data['rows'][i]['titleOfObject']\n",
    "    description= data['rows'][i]['description']\n",
    "    #print creatorName\n",
    "    #print objectType\n",
    "    #print location\n",
    "    #print recordCreationDate\n",
    "    #print titleOfObject\n",
    "    #print description\n",
    "    \n",
    "    \n",
    "    sql = \"INSERT INTO table_name (objectType, creatorName, location, recordCreationDate, titleOfObject, description) VALUES (\"+objectType+\",\"+creatorName+\",\"+location+\",\"+recordCreationDate+\",\"+titleOfObject+\",\"+description+\");\"\n",
    "    \n",
    "    print sql\n",
    "    \n",
    "    cur.execute(sql)\n",
    "    "
   ]
  },
  {
   "cell_type": "code",
   "execution_count": 3,
   "metadata": {
    "collapsed": false
   },
   "outputs": [],
   "source": [
    "\n",
    "db.close()\n",
    "data_file.close()\n",
    "\n"
   ]
  },
  {
   "cell_type": "code",
   "execution_count": null,
   "metadata": {
    "collapsed": true
   },
   "outputs": [],
   "source": []
  }
 ],
 "metadata": {
  "kernelspec": {
   "display_name": "Python 2",
   "language": "python",
   "name": "python2"
  },
  "language_info": {
   "codemirror_mode": {
    "name": "ipython",
    "version": 2
   },
   "file_extension": ".py",
   "mimetype": "text/x-python",
   "name": "python",
   "nbconvert_exporter": "python",
   "pygments_lexer": "ipython2",
   "version": "2.7.8"
  }
 },
 "nbformat": 4,
 "nbformat_minor": 0
}
